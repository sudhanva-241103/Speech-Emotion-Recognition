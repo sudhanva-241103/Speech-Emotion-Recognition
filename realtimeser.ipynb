{
 "cells": [
  {
   "cell_type": "code",
   "execution_count": 1,
   "metadata": {},
   "outputs": [
    {
     "name": "stdout",
     "output_type": "stream",
     "text": [
      "Requirement already satisfied: pydub in c:\\users\\admin\\desktop\\ser\\.venv\\lib\\site-packages (0.25.1)\n",
      "Note: you may need to restart the kernel to use updated packages.\n",
      "Requirement already satisfied: noisereduce in c:\\users\\admin\\desktop\\ser\\.venv\\lib\\site-packages (3.0.3)\n",
      "Requirement already satisfied: scipy in c:\\users\\admin\\desktop\\ser\\.venv\\lib\\site-packages (from noisereduce) (1.14.1)\n",
      "Requirement already satisfied: matplotlib in c:\\users\\admin\\desktop\\ser\\.venv\\lib\\site-packages (from noisereduce) (3.9.2)\n",
      "Requirement already satisfied: numpy in c:\\users\\admin\\desktop\\ser\\.venv\\lib\\site-packages (from noisereduce) (2.0.2)\n",
      "Requirement already satisfied: tqdm in c:\\users\\admin\\desktop\\ser\\.venv\\lib\\site-packages (from noisereduce) (4.66.5)\n",
      "Requirement already satisfied: joblib in c:\\users\\admin\\desktop\\ser\\.venv\\lib\\site-packages (from noisereduce) (1.4.2)\n",
      "Requirement already satisfied: contourpy>=1.0.1 in c:\\users\\admin\\desktop\\ser\\.venv\\lib\\site-packages (from matplotlib->noisereduce) (1.3.0)\n",
      "Requirement already satisfied: cycler>=0.10 in c:\\users\\admin\\desktop\\ser\\.venv\\lib\\site-packages (from matplotlib->noisereduce) (0.12.1)\n",
      "Requirement already satisfied: fonttools>=4.22.0 in c:\\users\\admin\\desktop\\ser\\.venv\\lib\\site-packages (from matplotlib->noisereduce) (4.54.1)\n",
      "Requirement already satisfied: kiwisolver>=1.3.1 in c:\\users\\admin\\desktop\\ser\\.venv\\lib\\site-packages (from matplotlib->noisereduce) (1.4.7)\n",
      "Requirement already satisfied: packaging>=20.0 in c:\\users\\admin\\desktop\\ser\\.venv\\lib\\site-packages (from matplotlib->noisereduce) (24.1)\n",
      "Requirement already satisfied: pillow>=8 in c:\\users\\admin\\desktop\\ser\\.venv\\lib\\site-packages (from matplotlib->noisereduce) (11.0.0)\n",
      "Requirement already satisfied: pyparsing>=2.3.1 in c:\\users\\admin\\desktop\\ser\\.venv\\lib\\site-packages (from matplotlib->noisereduce) (3.2.0)\n",
      "Requirement already satisfied: python-dateutil>=2.7 in c:\\users\\admin\\desktop\\ser\\.venv\\lib\\site-packages (from matplotlib->noisereduce) (2.9.0.post0)\n",
      "Requirement already satisfied: colorama in c:\\users\\admin\\desktop\\ser\\.venv\\lib\\site-packages (from tqdm->noisereduce) (0.4.6)\n",
      "Requirement already satisfied: six>=1.5 in c:\\users\\admin\\desktop\\ser\\.venv\\lib\\site-packages (from python-dateutil>=2.7->matplotlib->noisereduce) (1.16.0)\n",
      "Note: you may need to restart the kernel to use updated packages.\n",
      "Requirement already satisfied: pyaudio in c:\\users\\admin\\desktop\\ser\\.venv\\lib\\site-packages (0.2.14)\n",
      "Note: you may need to restart the kernel to use updated packages.\n",
      "Requirement already satisfied: json-tricks in c:\\users\\admin\\desktop\\ser\\.venv\\lib\\site-packages (3.17.3)\n",
      "Note: you may need to restart the kernel to use updated packages.\n"
     ]
    }
   ],
   "source": [
    "%pip install pydub\n",
    "%pip install noisereduce\n",
    "%pip install pyaudio\n",
    "%pip install json-tricks"
   ]
  },
  {
   "cell_type": "code",
   "execution_count": 2,
   "metadata": {},
   "outputs": [
    {
     "name": "stderr",
     "output_type": "stream",
     "text": [
      "c:\\Users\\Admin\\Desktop\\SER\\.venv\\Lib\\site-packages\\pydub\\utils.py:170: RuntimeWarning: Couldn't find ffmpeg or avconv - defaulting to ffmpeg, but may not work\n",
      "  warn(\"Couldn't find ffmpeg or avconv - defaulting to ffmpeg, but may not work\", RuntimeWarning)\n"
     ]
    }
   ],
   "source": [
    "import os\n",
    "from json_tricks import load\n",
    "\n",
    "import numpy as np\n",
    "\n",
    "import librosa\n",
    "from pydub import AudioSegment, effects\n",
    "import noisereduce as nr\n",
    "\n",
    "import tensorflow as tf\n",
    "import keras\n",
    "from keras.models import model_from_json\n",
    "from keras.models import load_model\n",
    "\n",
    "import matplotlib.pyplot as plt"
   ]
  },
  {
   "cell_type": "code",
   "execution_count": 3,
   "metadata": {},
   "outputs": [
    {
     "data": {
      "text/html": [
       "<pre style=\"white-space:pre;overflow-x:auto;line-height:normal;font-family:Menlo,'DejaVu Sans Mono',consolas,'Courier New',monospace\"><span style=\"font-weight: bold\">Model: \"sequential_1\"</span>\n",
       "</pre>\n"
      ],
      "text/plain": [
       "\u001b[1mModel: \"sequential_1\"\u001b[0m\n"
      ]
     },
     "metadata": {},
     "output_type": "display_data"
    },
    {
     "data": {
      "text/html": [
       "<pre style=\"white-space:pre;overflow-x:auto;line-height:normal;font-family:Menlo,'DejaVu Sans Mono',consolas,'Courier New',monospace\">┏━━━━━━━━━━━━━━━━━━━━━━━━━━━━━━━━━┳━━━━━━━━━━━━━━━━━━━━━━━━┳━━━━━━━━━━━━━━━┓\n",
       "┃<span style=\"font-weight: bold\"> Layer (type)                    </span>┃<span style=\"font-weight: bold\"> Output Shape           </span>┃<span style=\"font-weight: bold\">       Param # </span>┃\n",
       "┡━━━━━━━━━━━━━━━━━━━━━━━━━━━━━━━━━╇━━━━━━━━━━━━━━━━━━━━━━━━╇━━━━━━━━━━━━━━━┩\n",
       "│ lstm_2 (<span style=\"color: #0087ff; text-decoration-color: #0087ff\">LSTM</span>)                   │ (<span style=\"color: #00d7ff; text-decoration-color: #00d7ff\">None</span>, <span style=\"color: #00af00; text-decoration-color: #00af00\">339</span>, <span style=\"color: #00af00; text-decoration-color: #00af00\">64</span>)        │        <span style=\"color: #00af00; text-decoration-color: #00af00\">20,480</span> │\n",
       "├─────────────────────────────────┼────────────────────────┼───────────────┤\n",
       "│ lstm_3 (<span style=\"color: #0087ff; text-decoration-color: #0087ff\">LSTM</span>)                   │ (<span style=\"color: #00d7ff; text-decoration-color: #00d7ff\">None</span>, <span style=\"color: #00af00; text-decoration-color: #00af00\">64</span>)             │        <span style=\"color: #00af00; text-decoration-color: #00af00\">33,024</span> │\n",
       "├─────────────────────────────────┼────────────────────────┼───────────────┤\n",
       "│ dense_1 (<span style=\"color: #0087ff; text-decoration-color: #0087ff\">Dense</span>)                 │ (<span style=\"color: #00d7ff; text-decoration-color: #00d7ff\">None</span>, <span style=\"color: #00af00; text-decoration-color: #00af00\">8</span>)              │           <span style=\"color: #00af00; text-decoration-color: #00af00\">520</span> │\n",
       "└─────────────────────────────────┴────────────────────────┴───────────────┘\n",
       "</pre>\n"
      ],
      "text/plain": [
       "┏━━━━━━━━━━━━━━━━━━━━━━━━━━━━━━━━━┳━━━━━━━━━━━━━━━━━━━━━━━━┳━━━━━━━━━━━━━━━┓\n",
       "┃\u001b[1m \u001b[0m\u001b[1mLayer (type)                   \u001b[0m\u001b[1m \u001b[0m┃\u001b[1m \u001b[0m\u001b[1mOutput Shape          \u001b[0m\u001b[1m \u001b[0m┃\u001b[1m \u001b[0m\u001b[1m      Param #\u001b[0m\u001b[1m \u001b[0m┃\n",
       "┡━━━━━━━━━━━━━━━━━━━━━━━━━━━━━━━━━╇━━━━━━━━━━━━━━━━━━━━━━━━╇━━━━━━━━━━━━━━━┩\n",
       "│ lstm_2 (\u001b[38;5;33mLSTM\u001b[0m)                   │ (\u001b[38;5;45mNone\u001b[0m, \u001b[38;5;34m339\u001b[0m, \u001b[38;5;34m64\u001b[0m)        │        \u001b[38;5;34m20,480\u001b[0m │\n",
       "├─────────────────────────────────┼────────────────────────┼───────────────┤\n",
       "│ lstm_3 (\u001b[38;5;33mLSTM\u001b[0m)                   │ (\u001b[38;5;45mNone\u001b[0m, \u001b[38;5;34m64\u001b[0m)             │        \u001b[38;5;34m33,024\u001b[0m │\n",
       "├─────────────────────────────────┼────────────────────────┼───────────────┤\n",
       "│ dense_1 (\u001b[38;5;33mDense\u001b[0m)                 │ (\u001b[38;5;45mNone\u001b[0m, \u001b[38;5;34m8\u001b[0m)              │           \u001b[38;5;34m520\u001b[0m │\n",
       "└─────────────────────────────────┴────────────────────────┴───────────────┘\n"
      ]
     },
     "metadata": {},
     "output_type": "display_data"
    },
    {
     "data": {
      "text/html": [
       "<pre style=\"white-space:pre;overflow-x:auto;line-height:normal;font-family:Menlo,'DejaVu Sans Mono',consolas,'Courier New',monospace\"><span style=\"font-weight: bold\"> Total params: </span><span style=\"color: #00af00; text-decoration-color: #00af00\">54,024</span> (211.03 KB)\n",
       "</pre>\n"
      ],
      "text/plain": [
       "\u001b[1m Total params: \u001b[0m\u001b[38;5;34m54,024\u001b[0m (211.03 KB)\n"
      ]
     },
     "metadata": {},
     "output_type": "display_data"
    },
    {
     "data": {
      "text/html": [
       "<pre style=\"white-space:pre;overflow-x:auto;line-height:normal;font-family:Menlo,'DejaVu Sans Mono',consolas,'Courier New',monospace\"><span style=\"font-weight: bold\"> Trainable params: </span><span style=\"color: #00af00; text-decoration-color: #00af00\">54,024</span> (211.03 KB)\n",
       "</pre>\n"
      ],
      "text/plain": [
       "\u001b[1m Trainable params: \u001b[0m\u001b[38;5;34m54,024\u001b[0m (211.03 KB)\n"
      ]
     },
     "metadata": {},
     "output_type": "display_data"
    },
    {
     "data": {
      "text/html": [
       "<pre style=\"white-space:pre;overflow-x:auto;line-height:normal;font-family:Menlo,'DejaVu Sans Mono',consolas,'Courier New',monospace\"><span style=\"font-weight: bold\"> Non-trainable params: </span><span style=\"color: #00af00; text-decoration-color: #00af00\">0</span> (0.00 B)\n",
       "</pre>\n"
      ],
      "text/plain": [
       "\u001b[1m Non-trainable params: \u001b[0m\u001b[38;5;34m0\u001b[0m (0.00 B)\n"
      ]
     },
     "metadata": {},
     "output_type": "display_data"
    },
    {
     "name": "stdout",
     "output_type": "stream",
     "text": [
      "None\n"
     ]
    }
   ],
   "source": [
    "saved_model_path = 'C:/Users/Admin/Desktop/SER/lstmmodel.json'\n",
    "saved_weights_path = 'C:/Users/Admin/Desktop/SER/checkpoints/best_weights.keras'\n",
    "\n",
    "#Reading the model from JSON file\n",
    "with open(saved_model_path, 'r') as json_file:\n",
    "    json_savedModel = json_file.read()\n",
    "    \n",
    "# Loading the model architecture, weights\n",
    "model = tf.keras.models.model_from_json(json_savedModel)\n",
    "model.load_weights(saved_weights_path)\n",
    "\n",
    "# Compiling the model with similar parameters as the original model.\n",
    "model.compile(loss='categorical_crossentropy', \n",
    "                optimizer='RMSProp', \n",
    "                metrics=['categorical_accuracy'])\n",
    "\n",
    "print(model.summary())"
   ]
  },
  {
   "cell_type": "code",
   "execution_count": 1,
   "metadata": {},
   "outputs": [],
   "source": [
    "def preprocess(file_path, frame_length = 2048, hop_length = 512):\n",
    "    '''\n",
    "    A process to an audio .wav file before execcuting a prediction.\n",
    "      Arguments:\n",
    "      - file_path - The system path to the audio file.\n",
    "      - frame_length - Length of the frame over which to compute the speech features. default: 2048\n",
    "      - hop_length - Number of samples to advance for each frame. default: 512\n",
    "\n",
    "      Return:\n",
    "        'X_3D' variable, containing a shape of: (batch, timesteps, feature) for a single file (batch = 1).\n",
    "    ''' \n",
    "    # Fetch sample rate.\n",
    "    _, sr = librosa.load(path = file_path, sr = None)\n",
    "    # Load audio file\n",
    "    rawsound = AudioSegment.from_file(file_path, duration = None) \n",
    "    # Normalize to 5 dBFS \n",
    "    normalizedsound = effects.normalize(rawsound, headroom = 5.0) \n",
    "    # Transform the audio file to np.array of samples\n",
    "    normal_x = np.array(normalizedsound.get_array_of_samples(), dtype = 'float32') \n",
    "    # Noise reduction                  \n",
    "    final_x = nr.reduce_noise(normal_x, sr=sr, use_tensorflow=True)\n",
    "        \n",
    "        \n",
    "    f1 = librosa.feature.rms(final_x, frame_length=frame_length, hop_length=hop_length, center=True, pad_mode='reflect').T # Energy - Root Mean Square\n",
    "    f2 = librosa.feature.zero_crossing_rate(final_x, frame_length=frame_length, hop_length=hop_length,center=True).T # ZCR\n",
    "    f3 = librosa.feature.mfcc(final_x, sr=sr, S=None, n_mfcc=13, hop_length = hop_length).T # MFCC   \n",
    "    X = np.concatenate((f1, f2, f3), axis = 1)\n",
    "    \n",
    "    X_3D = np.expand_dims(X, axis=0)\n",
    "    \n",
    "    return X_3D"
   ]
  },
  {
   "cell_type": "code",
   "execution_count": 2,
   "metadata": {},
   "outputs": [],
   "source": [
    "# Emotions list is created for a readable form of the model prediction.\n",
    "\n",
    "emotions = {\n",
    "    0 : 'neutral',\n",
    "    1 : 'calm',\n",
    "    2 : 'happy',\n",
    "    3 : 'sad',\n",
    "    4 : 'angry',\n",
    "    5 : 'fearful',\n",
    "    6 : 'disgust',\n",
    "    7 : 'suprised'   \n",
    "}\n",
    "emo_list = list(emotions.values())\n",
    "\n",
    "def is_silent(data):\n",
    "    # Returns 'True' if below the 'silent' threshold\n",
    "    return max(data) < 100\n"
   ]
  },
  {
   "cell_type": "code",
   "execution_count": 15,
   "metadata": {},
   "outputs": [
    {
     "name": "stdout",
     "output_type": "stream",
     "text": [
      "** Processing uploaded audio file **\n",
      "\u001b[1m1/1\u001b[0m \u001b[32m━━━━━━━━━━━━━━━━━━━━\u001b[0m\u001b[37m\u001b[0m \u001b[1m0s\u001b[0m 471ms/step\n"
     ]
    },
    {
     "data": {
      "image/png": "[encoded data removed]",
      "text/plain": [
       "<Figure size 1000x200 with 1 Axes>"
      ]
     },
     "metadata": {},
     "output_type": "display_data"
    },
    {
     "name": "stdout",
     "output_type": "stream",
     "text": [
      "Predicted Emotion: Neutral\n",
      "** Analysis Complete **\n"
     ]
    }
   ],
   "source": [
    "import wave\n",
    "import numpy as np\n",
    "import matplotlib.pyplot as plt\n",
    "from keras.models import model_from_json\n",
    "\n",
    "# Load the model\n",
    "def load_model(json_path, weights_path):\n",
    "    with open(json_path, 'r') as file:\n",
    "        model = model_from_json(file.read())\n",
    "    model.load_weights(weights_path)\n",
    "    return model\n",
    "\n",
    "# Preprocess audio file to match model input\n",
    "def preprocess(file_path):\n",
    "    import librosa\n",
    "    # Load the audio file\n",
    "    audio, sr = librosa.load(file_path, sr=24414)  # Match RATE in your original code\n",
    "    \n",
    "    # Extract MFCCs (Mel-Frequency Cepstral Coefficients)\n",
    "    mfccs = librosa.feature.mfcc(y=audio, sr=sr, n_mfcc=15)  # Correctly specify 'y' and 'sr'\n",
    "    \n",
    "    # Pad or truncate to the expected timesteps\n",
    "    expected_length = 339\n",
    "    if mfccs.shape[1] < expected_length:\n",
    "        padding = expected_length - mfccs.shape[1]\n",
    "        mfccs = np.pad(mfccs, ((0, 0), (0, padding)), mode='constant')\n",
    "    else:\n",
    "        mfccs = mfccs[:, :expected_length]\n",
    "    \n",
    "    # Reshape for the model\n",
    "    return np.expand_dims(mfccs.T, axis=0)\n",
    "\n",
    "\n",
    "# Load the model\n",
    "model = load_model('C:/Users/Admin/Desktop/SER/lstmmodel.json', 'C:/Users/Admin/Desktop/SER/checkpoints/best_weights.keras')\n",
    "\n",
    "# Emotion labels\n",
    "emo_list = ['Happy', 'Sad', 'Angry', 'Neutral', 'Surprised', 'Fear', 'Disgust', 'Other']\n",
    "\n",
    "# Function to process the uploaded file and make predictions\n",
    "def analyze_audio(file_path):\n",
    "    print(\"** Processing uploaded audio file **\")\n",
    "    \n",
    "    # Preprocess audio file\n",
    "    x = preprocess(file_path)\n",
    "    \n",
    "    # Model's prediction => an array of emotion probabilities\n",
    "    predictions = model.predict(x)  # Removed 'use_multiprocessing'\n",
    "    pred_list = list(predictions)\n",
    "    pred_np = np.squeeze(np.array(pred_list).tolist(), axis=0)  # Remove unnecessary dimensions\n",
    "    \n",
    "    # Plot emotion probabilities for the audio\n",
    "    fig = plt.figure(figsize=(10, 2))\n",
    "    plt.bar(emo_list, pred_np, color='darkturquoise')\n",
    "    plt.ylabel(\"Probability (%)\")\n",
    "    plt.title(\"Emotion Prediction for Uploaded Audio\")\n",
    "    plt.show()\n",
    "    \n",
    "    # Get the most likely emotion\n",
    "    max_emo = np.argmax(predictions)\n",
    "    print('Predicted Emotion:', emo_list[max_emo])\n",
    "    print(\"** Analysis Complete **\")\n",
    "\n",
    "# Simulate file upload for testing\n",
    "file_path = \"C:/Users/Admin/Desktop/SER/Dataset/RAVDESS/Actor_01/03-01-02-01-02-02-01.wav\"  # Replace this with the actual uploaded file path\n",
    "analyze_audio(file_path)\n"
   ]
  },
  {
   "cell_type": "code",
   "execution_count": 17,
   "metadata": {},
   "outputs": [
    {
     "name": "stdout",
     "output_type": "stream",
     "text": [
      "** Processing uploaded audio file **\n",
      "WARNING:tensorflow:6 out of the last 6 calls to <function TensorFlowTrainer.make_predict_function.<locals>.one_step_on_data_distributed at 0x00000281E9789620> triggered tf.function retracing. Tracing is expensive and the excessive number of tracings could be due to (1) creating @tf.function repeatedly in a loop, (2) passing tensors with different shapes, (3) passing Python objects instead of tensors. For (1), please define your @tf.function outside of the loop. For (2), @tf.function has reduce_retracing=True option that can avoid unnecessary retracing. For (3), please refer to https://www.tensorflow.org/guide/function#controlling_retracing and https://www.tensorflow.org/api_docs/python/tf/function for  more details.\n",
      "\u001b[1m1/1\u001b[0m \u001b[32m━━━━━━━━━━━━━━━━━━━━\u001b[0m\u001b[37m\u001b[0m \u001b[1m1s\u001b[0m 576ms/step\n"
     ]
    },
    {
     "data": {
      "image/png": "[encoded data removed]",
      "text/plain": [
       "<Figure size 1000x200 with 1 Axes>"
      ]
     },
     "metadata": {},
     "output_type": "display_data"
    },
    {
     "name": "stdout",
     "output_type": "stream",
     "text": [
      "Predicted Emotion: Other\n",
      "** Analysis Complete **\n"
     ]
    }
   ],
   "source": [
    "import wave\n",
    "import numpy as np\n",
    "import matplotlib.pyplot as plt\n",
    "from keras.models import model_from_json\n",
    "\n",
    "# Load the model\n",
    "def load_model(json_path, weights_path):\n",
    "    with open(json_path, 'r') as file:\n",
    "        model = model_from_json(file.read())\n",
    "    model.load_weights(weights_path)\n",
    "    return model\n",
    "\n",
    "# Preprocess audio file to match model input\n",
    "def preprocess(file_path):\n",
    "    import librosa\n",
    "    # Load the audio file\n",
    "    audio, sr = librosa.load(file_path, sr=24414)  # Match RATE in your original code\n",
    "    \n",
    "    # Extract MFCCs (Mel-Frequency Cepstral Coefficients)\n",
    "    mfccs = librosa.feature.mfcc(y=audio, sr=sr, n_mfcc=15)  # Correctly specify 'y' and 'sr'\n",
    "    \n",
    "    # Pad or truncate to the expected timesteps\n",
    "    expected_length = 339\n",
    "    if mfccs.shape[1] < expected_length:\n",
    "        padding = expected_length - mfccs.shape[1]\n",
    "        mfccs = np.pad(mfccs, ((0, 0), (0, padding)), mode='constant')\n",
    "    else:\n",
    "        mfccs = mfccs[:, :expected_length]\n",
    "    \n",
    "    # Reshape for the model\n",
    "    return np.expand_dims(mfccs.T, axis=0)\n",
    "\n",
    "\n",
    "# Load the model\n",
    "model = load_model('C:/Users/Admin/Desktop/SER/lstmmodel.json', 'C:/Users/Admin/Desktop/SER/checkpoints/best_weights.keras')\n",
    "\n",
    "# Emotion labels\n",
    "emo_list = ['Happy', 'Sad', 'Angry', 'Neutral', 'Surprised', 'Fear', 'Disgust', 'Other']\n",
    "\n",
    "# Function to process the uploaded file and make predictions\n",
    "def analyze_audio(file_path):\n",
    "    print(\"** Processing uploaded audio file **\")\n",
    "    \n",
    "    # Preprocess audio file\n",
    "    x = preprocess(file_path)\n",
    "    \n",
    "    # Model's prediction => an array of emotion probabilities\n",
    "    predictions = model.predict(x)  # Removed 'use_multiprocessing'\n",
    "    pred_list = list(predictions)\n",
    "    pred_np = np.squeeze(np.array(pred_list).tolist(), axis=0)  # Remove unnecessary dimensions\n",
    "    \n",
    "    # Plot emotion probabilities for the audio\n",
    "    fig = plt.figure(figsize=(10, 2))\n",
    "    plt.bar(emo_list, pred_np, color='darkturquoise')\n",
    "    plt.ylabel(\"Probability (%)\")\n",
    "    plt.title(\"Emotion Prediction for Uploaded Audio\")\n",
    "    plt.show()\n",
    "    \n",
    "    # Get the most likely emotion\n",
    "    max_emo = np.argmax(predictions)\n",
    "    print('Predicted Emotion:', emo_list[max_emo])\n",
    "    print(\"** Analysis Complete **\")\n",
    "\n",
    "# Simulate file upload for testing\n",
    "file_path = \"C:/Users/Admin/Desktop/SER/Dataset/RAVDESS/Actor_14/03-01-01-01-01-02-14.wav\"  # Replace this with the actual uploaded file path\n",
    "analyze_audio(file_path)\n"
   ]
  }
 ],
 "metadata": {
  "kernelspec": {
   "display_name": ".venv",
   "language": "python",
   "name": "python3"
  },
  "language_info": {
   "codemirror_mode": {
    "name": "ipython",
    "version": 3
   },
   "file_extension": ".py",
   "mimetype": "text/x-python",
   "name": "python",
   "nbconvert_exporter": "python",
   "pygments_lexer": "ipython3",
   "version": "3.12.5"
  }
 },
 "nbformat": 4,
 "nbformat_minor": 2
}
